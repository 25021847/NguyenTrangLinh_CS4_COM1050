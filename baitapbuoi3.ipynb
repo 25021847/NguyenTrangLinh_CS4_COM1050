{
  "nbformat": 4,
  "nbformat_minor": 0,
  "metadata": {
    "colab": {
      "provenance": [],
      "authorship_tag": "ABX9TyOHzyjiQzmf7mlnfID2Y9AR"
    },
    "kernelspec": {
      "name": "python3",
      "display_name": "Python 3"
    },
    "language_info": {
      "name": "python"
    }
  },
  "cells": [
    {
      "cell_type": "code",
      "execution_count": null,
      "metadata": {
        "collapsed": true,
        "id": "vNnz_z_HyF06"
      },
      "outputs": [],
      "source": [
        "#bai1\n",
        "\n",
        "my_list = [1, 2, 3, 4, 5]\n",
        "reversed_list = list(reversed(my_list))\n",
        "\n",
        "print(reversed_list)"
      ]
    },
    {
      "cell_type": "code",
      "source": [
        "#bai2\n",
        "\n",
        "a = int(input(\"Nhập a: \"))\n",
        "b = int(input(\"Nhập b: \"))\n",
        "\n",
        "a = a ^ b\n",
        "b = b ^ a\n",
        "a = a ^ b\n",
        "\n",
        "print(a, b)"
      ],
      "metadata": {
        "collapsed": true,
        "id": "1PLmyhC90Q0p"
      },
      "execution_count": null,
      "outputs": []
    },
    {
      "cell_type": "code",
      "source": [
        "#bai3\n",
        "\n",
        "x = int(input(\"Nhập x: \"))\n",
        "\n",
        "if x > 0 & (x-1) == 0:\n",
        "  print(\"True\")\n",
        "else:\n",
        "  print(\"False\")"
      ],
      "metadata": {
        "id": "hX9_KZdl2ggu"
      },
      "execution_count": null,
      "outputs": []
    },
    {
      "cell_type": "code",
      "source": [
        "#bai4\n",
        "\n",
        "import math\n",
        "\n",
        "m = float(input(\"Nhập m: \"))\n",
        "n = float(input(\"Nhập n: \"))\n",
        "\n",
        "result = math.floor(m / n)\n",
        "\n",
        "print(\"Kết quả làm tròn xuống:\", result)"
      ],
      "metadata": {
        "id": "wG0PcOw44tk6"
      },
      "execution_count": null,
      "outputs": []
    },
    {
      "cell_type": "code",
      "source": [
        "#bai5\n",
        "\n",
        "import math\n",
        "\n",
        "m = float(input(\"Nhập m: \"))\n",
        "n = float(input(\"Nhập n: \"))\n",
        "\n",
        "result = math.ceil(m / n)\n",
        "\n",
        "print(\"Kết quả làm tròn lên:\", result)"
      ],
      "metadata": {
        "id": "l7uX4fv87oyS"
      },
      "execution_count": null,
      "outputs": []
    },
    {
      "cell_type": "code",
      "source": [
        "#bai6\n",
        "\n",
        "x = int(input(\"Nhập x: \"))\n",
        "\n",
        "if x % 2 == 0:\n",
        "  print(\"Even\")\n",
        "else:\n",
        "  print(\"Odd\")"
      ],
      "metadata": {
        "id": "P1BemBUg7393"
      },
      "execution_count": null,
      "outputs": []
    },
    {
      "cell_type": "code",
      "source": [
        "#bai7\n",
        "\n",
        "a = int(input(\"Nhập a: \"))\n",
        "b = int(input(\"Nhập b: \"))\n",
        "\n",
        "if a < 0 and b < 0:\n",
        "    print(\"Yes\")\n",
        "else:\n",
        "    print(\"No\")"
      ],
      "metadata": {
        "id": "vuxXlD__8i8p"
      },
      "execution_count": null,
      "outputs": []
    },
    {
      "cell_type": "code",
      "source": [
        "#bai8\n",
        "\n",
        "a = input(\"Nhập chuỗi a: \")\n",
        "b = input(\"Nhập chuỗi b: \")\n",
        "\n",
        "if len(a) > len(b):\n",
        "    print(\"True\")\n",
        "else:\n",
        "    print(\"False\")"
      ],
      "metadata": {
        "id": "9hZzupZ98r6c"
      },
      "execution_count": null,
      "outputs": []
    },
    {
      "cell_type": "code",
      "source": [
        "#bai9\n",
        "\n",
        "a = int(input(\"Nhập a: \"))\n",
        "b = int(input(\"Nhập b: \"))\n",
        "c = int(input(\"Nhập c: \"))\n",
        "\n",
        "if a + b > c and a + c > b and b + c > a:\n",
        "    print(\"Yes\")\n",
        "else:\n",
        "    print(\"No\")"
      ],
      "metadata": {
        "id": "RaXzdKbz9pQF"
      },
      "execution_count": null,
      "outputs": []
    },
    {
      "cell_type": "code",
      "source": [
        "#bai10\n",
        "\n",
        "a = int(input(\"Nhập số thứ nhất: \"))\n",
        "b = int(input(\"Nhập số thứ hai: \"))\n",
        "c = int(input(\"Nhập số thứ ba: \"))\n",
        "d = int(input(\"Nhập số thứ tư: \"))\n",
        "\n",
        "largest = max(a, b, c, d)\n",
        "print(\"Số lớn nhất là:\", largest)"
      ],
      "metadata": {
        "id": "gymb1e9D9sCR"
      },
      "execution_count": null,
      "outputs": []
    },
    {
      "cell_type": "code",
      "source": [
        "#bai11\n",
        "\n",
        "a = int(input(\"Nhập a: \"))\n",
        "b = int(input(\"Nhập b: \"))\n",
        "c = int(input(\"Nhập c: \"))\n",
        "\n",
        "if a + b > c and a + c > b and b + c > a:\n",
        "  if a == b == c:\n",
        "    print(\"Tam giác đều\")\n",
        "  elif a == b or b == c or c == a:\n",
        "    print(\"Tam giác cân\")\n",
        "  else:\n",
        "    print(\"Tam giác thường\")\n",
        "else:\n",
        "    print(\"Không phải tam giác\")"
      ],
      "metadata": {
        "id": "gu6C1u-2-ST-"
      },
      "execution_count": null,
      "outputs": []
    },
    {
      "cell_type": "code",
      "source": [
        "#bai12\n",
        "\n",
        "year = int(input(\"Nhập năm: \"))\n",
        "\n",
        "if (year % 400 == 0) or (year % 4 == 0 and year % 100 != 0):\n",
        "    print(\"Yes\")\n",
        "else:\n",
        "    print(\"No\")"
      ],
      "metadata": {
        "id": "Yd-uX-jsATzj"
      },
      "execution_count": null,
      "outputs": []
    },
    {
      "cell_type": "code",
      "source": [
        "#bai13\n",
        "\n",
        "so_kwh = float(input(\"Nhập số điện tiêu thụ (kWh): \"))\n",
        "\n",
        "if so_kwh <= 50:\n",
        "    tien = so_kwh * 1000\n",
        "elif so_kwh <= 100:\n",
        "    tien = 50 * 1000 + (so_kwh - 50) * 2000\n",
        "else:\n",
        "    tien = 50 * 1000 + 50 * 2000 + (so_kwh - 100) * 3000\n",
        "\n",
        "print(\"Tiền điện phải trả:\", tien, \"đồng\")"
      ],
      "metadata": {
        "id": "XOU0NASpDspU"
      },
      "execution_count": null,
      "outputs": []
    },
    {
      "cell_type": "code",
      "source": [
        "#bai14\n",
        "\n",
        "a = float(input(\"Nhập a: \"))\n",
        "b = float(input(\"Nhập b: \"))\n",
        "\n",
        "if a == 0:\n",
        "  if b == 0:\n",
        "        print(\"Vô số nghiệm\")\n",
        "  else:\n",
        "        print(\"Vô nghiệm\")\n",
        "else:\n",
        "    x = -b / a\n",
        "    print(\"Nghiệm của phương trình là:\", x)"
      ],
      "metadata": {
        "id": "zcHTv6zREGYY"
      },
      "execution_count": null,
      "outputs": []
    },
    {
      "cell_type": "code",
      "source": [
        "#bai15\n",
        "\n",
        "diem = float(input(\"Nhập điểm trung bình: \"))\n",
        "\n",
        "if diem >= 8.5:\n",
        "  print(\"Giỏi\")\n",
        "elif diem >= 6.5:\n",
        "  print(\"Khá\")\n",
        "elif diem >= 5:\n",
        "  print(\"Trung bình\")\n",
        "else:\n",
        "  print(\"Yếu\")"
      ],
      "metadata": {
        "id": "3UZ8F958ErP0"
      },
      "execution_count": null,
      "outputs": []
    },
    {
      "cell_type": "code",
      "source": [
        "#bai16\n",
        "\n",
        "x = float(input(\"Nhập số thực: \"))\n",
        "\n",
        "nguyen = int(x)\n",
        "thap_phan = x - nguyen\n",
        "\n",
        "if x >= 0:\n",
        "  down = nguyen\n",
        "else:\n",
        "  down = nguyen - 1 if thap_phan != 0 else nguyen\n",
        "\n",
        "if x >= 0:\n",
        "  up = nguyen + 1 if thap_phan != 0 else nguyen\n",
        "else:\n",
        "  up = nguyen\n",
        "\n",
        "if abs(thap_phan) >= 0.5:\n",
        "  if x >= 0:\n",
        "        nearest = nguyen + 1\n",
        "  else:\n",
        "        nearest = nguyen - 1\n",
        "else:\n",
        "    nearest = nguyen\n",
        "\n",
        "print(up, down, nearest)"
      ],
      "metadata": {
        "id": "qbid1v7WE1Ec"
      },
      "execution_count": null,
      "outputs": []
    },
    {
      "cell_type": "code",
      "source": [
        "#bai17 giong #bai11\n",
        "\n",
        "a = int(input(\"Nhập a: \"))\n",
        "b = int(input(\"Nhập b: \"))\n",
        "c = int(input(\"Nhập c: \"))\n",
        "\n",
        "if a + b > c and a + c > b and b + c > a:\n",
        "  if a == b == c:\n",
        "    print(\"Tam giác đều\")\n",
        "  elif a == b or b == c or c == a:\n",
        "    print(\"Tam giác cân\")\n",
        "  else:\n",
        "    print(\"Tam giác thường\")\n",
        "else:\n",
        "    print(\"Không phải tam giác\")"
      ],
      "metadata": {
        "id": "ehpmBkGZGWv0"
      },
      "execution_count": null,
      "outputs": []
    }
  ]
}